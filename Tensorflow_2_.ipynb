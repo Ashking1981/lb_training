{
  "nbformat": 4,
  "nbformat_minor": 0,
  "metadata": {
    "colab": {
      "provenance": [],
      "gpuType": "T4",
      "include_colab_link": true
    },
    "kernelspec": {
      "name": "python3",
      "display_name": "Python 3"
    },
    "accelerator": "GPU"
  },
  "cells": [
    {
      "cell_type": "markdown",
      "metadata": {
        "id": "view-in-github",
        "colab_type": "text"
      },
      "source": [
        "<a href=\"https://colab.research.google.com/github/Ashking1981/lb_training/blob/master/Tensorflow_2_.ipynb\" target=\"_parent\"><img src=\"https://colab.research.google.com/assets/colab-badge.svg\" alt=\"Open In Colab\"/></a>"
      ]
    },
    {
      "cell_type": "markdown",
      "metadata": {
        "id": "YwRhVNG9kVbv"
      },
      "source": [
        "# Tensorflow 2 Introduction\n",
        "\n",
        "Tensorflow 2.x alongwith Keras API provide a powerful set of tools to write Neural Networks, test and deploy them in a jiffy.\n",
        "\n",
        "The official documentation could be found here : https://www.tensorflow.org/"
      ]
    },
    {
      "cell_type": "markdown",
      "metadata": {
        "id": "RRcZDuL1oJ8e"
      },
      "source": [
        "---\n",
        "### TensorFlow 2.0 is an extensive redesign of TensorFlow and Keras that takes into account over four years of user feedback and technical progress.\n",
        "---\n",
        "\n",
        "TensorFlow 2.0 is built on the following key ideas:\n",
        "\n",
        "- Let users run their computation eagerly, like they would in Numpy. This makes TensorFlow 2.0 programming intuitive and Pythonic.\n",
        "- Preserve the considerable advantages of compiled graphs (for performance, distribution, and deployment). This makes TensorFlow fast, scalable, and production-ready.\n",
        "- Leverage Keras as its high-level deep learning API, making TensorFlow approachable and highly productive.\n",
        "- Extend Keras into a spectrum of workflows ranging from the very high-level (easier to use, less flexible) to the very low-level (requires more expertise, but provides great flexibility)."
      ]
    },
    {
      "cell_type": "markdown",
      "metadata": {
        "id": "dQirvOlfk6T6"
      },
      "source": [
        "### Easy model building\n",
        "TensorFlow offers multiple levels of abstraction so you can choose the right one for your needs. Build and train models by using the high-level Keras API, which makes getting started with TensorFlow and machine learning easy.\n",
        "\n",
        "If you need more flexibility, eager execution allows for immediate iteration and intuitive debugging. For large ML training tasks, use the Distribution Strategy API for distributed training on different hardware configurations without changing the model definition."
      ]
    },
    {
      "cell_type": "markdown",
      "metadata": {
        "id": "jMN-IZnalFdI"
      },
      "source": [
        "### Robust ML production anywhere\n",
        "TensorFlow has always provided a direct path to production. Whether it’s on servers, edge devices, or the web, TensorFlow lets you train and deploy your model easily, no matter what language or platform you use.\n",
        "\n",
        "Use TensorFlow Extended (TFX) if you need a full production ML pipeline. For running inference on mobile and edge devices, use TensorFlow Lite. Train and deploy models in JavaScript environments using TensorFlow.js."
      ]
    },
    {
      "cell_type": "markdown",
      "metadata": {
        "id": "mdQePGOdlMUw"
      },
      "source": [
        "### Powerful experimentation for research\n",
        "Build and train state-of-the-art models without sacrificing speed or performance. TensorFlow gives you the flexibility and control with features like the Keras Functional API and Model Subclassing API for creation of complex topologies. For easy prototyping and fast debugging, use eager execution.\n",
        "\n",
        "TensorFlow also supports an ecosystem of powerful add-on libraries and models to experiment with, including Ragged Tensors, TensorFlow Probability, Tensor2Tensor and BERT."
      ]
    },
    {
      "cell_type": "code",
      "metadata": {
        "id": "GjAseJNgjwSq",
        "colab": {
          "base_uri": "https://localhost:8080/",
          "height": 35
        },
        "outputId": "987f1c5d-76f6-4970-e4f1-682d2cb54e2b"
      },
      "source": [
        "'''\n",
        "!pip install --upgrade tensorflow  # cpu only\n",
        "!pip install --upgrade tensorflow-gpu # gpu and cpu\n",
        "'''"
      ],
      "execution_count": null,
      "outputs": [
        {
          "output_type": "execute_result",
          "data": {
            "text/plain": [
              "'\\n!pip install --upgrade tensorflow  # cpu only\\n!pip install --upgrade tensorflow-gpu # gpu and cpu\\n'"
            ],
            "application/vnd.google.colaboratory.intrinsic+json": {
              "type": "string"
            }
          },
          "metadata": {},
          "execution_count": 1
        }
      ]
    },
    {
      "cell_type": "code",
      "metadata": {
        "id": "n7MT_GHwlfbS",
        "colab": {
          "base_uri": "https://localhost:8080/"
        },
        "outputId": "28bcecdd-f624-4b8c-c07f-9a21f4eb9a2b"
      },
      "source": [
        "# check the version\n",
        "import tensorflow as tf\n",
        "print(('Your TensorFlow version: {0}').format(tf.__version__))"
      ],
      "execution_count": null,
      "outputs": [
        {
          "output_type": "stream",
          "name": "stdout",
          "text": [
            "Your TensorFlow version: 2.15.0\n"
          ]
        }
      ]
    },
    {
      "cell_type": "code",
      "source": [
        "from google.colab import drive\n",
        "drive.mount('/gdrive')\n",
        "%cd /gdrive"
      ],
      "metadata": {
        "colab": {
          "base_uri": "https://localhost:8080/"
        },
        "id": "jt5lHJ4s3Ia2",
        "outputId": "3b20fbb3-76c3-47f3-d73e-5a9da5c456cf"
      },
      "execution_count": null,
      "outputs": [
        {
          "output_type": "stream",
          "name": "stdout",
          "text": [
            "Mounted at /gdrive\n",
            "/gdrive\n"
          ]
        }
      ]
    },
    {
      "cell_type": "code",
      "source": [
        "2+2"
      ],
      "metadata": {
        "colab": {
          "base_uri": "https://localhost:8080/"
        },
        "id": "AKEZGyN345Xp",
        "outputId": "03051a93-4719-4310-89b4-d2297b4f65c3"
      },
      "execution_count": null,
      "outputs": [
        {
          "output_type": "execute_result",
          "data": {
            "text/plain": [
              "4"
            ]
          },
          "metadata": {},
          "execution_count": 4
        }
      ]
    },
    {
      "cell_type": "markdown",
      "metadata": {
        "id": "6Fua7TBZlxgM"
      },
      "source": [
        "How to verify if running eager execution?\n",
        "\n",
        "Eager execution is a fairly new addition to the tensorflow framework, thus we wish to check if eager execution is enabled or disabled."
      ]
    },
    {
      "cell_type": "code",
      "metadata": {
        "id": "ta3hAFCUl1gd",
        "colab": {
          "base_uri": "https://localhost:8080/"
        },
        "outputId": "399666da-4e60-4c77-a36d-3b2e55317b93"
      },
      "source": [
        "if(tf.executing_eagerly()):\n",
        "    print('Eager execution is enabled (running operations immediately)\\n')\n",
        "    print(('Turn eager execution off by running: \\n{0}\\n{1}').format('' \\\n",
        "        'from tensorflow.python.framework.ops import disable_eager_execution', \\\n",
        "        'disable_eager_execution()'))\n",
        "else:\n",
        "    print('You are not running eager execution. TensorFlow version >= 2.0.0' \\\n",
        "          'has eager execution enabled by default.')\n",
        "    print(('Turn on eager execution by running: \\n\\n{0}\\n\\nOr upgrade '\\\n",
        "           'your tensorflow version by running:\\n\\n{1}').format(\n",
        "           'tf.compat.v1.enable_eager_execution()'))"
      ],
      "execution_count": null,
      "outputs": [
        {
          "output_type": "stream",
          "name": "stdout",
          "text": [
            "Eager execution is enabled (running operations immediately)\n",
            "\n",
            "Turn eager execution off by running: \n",
            "from tensorflow.python.framework.ops import disable_eager_execution\n",
            "disable_eager_execution()\n"
          ]
        }
      ]
    },
    {
      "cell_type": "markdown",
      "metadata": {
        "id": "Rq2K_DC7mOHG"
      },
      "source": [
        "Verify if GPU is available and ready to be used"
      ]
    },
    {
      "cell_type": "code",
      "metadata": {
        "id": "oAXts2AVmNtq",
        "colab": {
          "base_uri": "https://localhost:8080/"
        },
        "outputId": "f5138f81-80f4-4264-973a-24e4055f9c65"
      },
      "source": [
        "print(('Is your GPU available for use? \\n{0}').format(\n",
        "    'Yes, your GPU is available: True' if tf.test.is_gpu_available() == True else 'No, your GPU is NOT available: False'\n",
        "))\n",
        "\n",
        "print(('\\nYour devices that are available:\\n{0}').format(\n",
        "    [device.name for device in tf.config.list_physical_devices('GPU')]\n",
        "))"
      ],
      "execution_count": null,
      "outputs": [
        {
          "output_type": "stream",
          "name": "stderr",
          "text": [
            "WARNING:tensorflow:From <ipython-input-4-051f70b27a1a>:2: is_gpu_available (from tensorflow.python.framework.test_util) is deprecated and will be removed in a future version.\n",
            "Instructions for updating:\n",
            "Use `tf.config.list_physical_devices('GPU')` instead.\n"
          ]
        },
        {
          "output_type": "stream",
          "name": "stdout",
          "text": [
            "Is your GPU available for use? \n",
            "Yes, your GPU is available: True\n",
            "\n",
            "Your devices that are available:\n",
            "['/physical_device:GPU:0']\n"
          ]
        }
      ]
    },
    {
      "cell_type": "code",
      "source": [
        "print(tf.config.list_physical_devices('CPU'))"
      ],
      "metadata": {
        "colab": {
          "base_uri": "https://localhost:8080/"
        },
        "id": "JNTOIF5Q46G8",
        "outputId": "ed3e76b2-66d0-4174-e550-87a1f77a43e7"
      },
      "execution_count": null,
      "outputs": [
        {
          "output_type": "stream",
          "name": "stdout",
          "text": [
            "[PhysicalDevice(name='/physical_device:CPU:0', device_type='CPU')]\n"
          ]
        }
      ]
    },
    {
      "cell_type": "code",
      "source": [
        "! nvidia-smi -L"
      ],
      "metadata": {
        "colab": {
          "base_uri": "https://localhost:8080/"
        },
        "id": "hw27adS07LIe",
        "outputId": "538a3146-17ec-4470-b16b-d76659289e5b"
      },
      "execution_count": null,
      "outputs": [
        {
          "output_type": "stream",
          "name": "stdout",
          "text": [
            "GPU 0: Tesla T4 (UUID: GPU-63a4d633-7116-9238-7f20-4becd31480d7)\n"
          ]
        }
      ]
    },
    {
      "cell_type": "code",
      "source": [
        "! nvidia-smi"
      ],
      "metadata": {
        "colab": {
          "base_uri": "https://localhost:8080/"
        },
        "id": "vut2SC_y7YDv",
        "outputId": "f6a0deb2-74ad-49a1-8d88-b69701af1f70"
      },
      "execution_count": null,
      "outputs": [
        {
          "output_type": "stream",
          "name": "stdout",
          "text": [
            "Thu Mar 28 15:03:47 2024       \n",
            "+---------------------------------------------------------------------------------------+\n",
            "| NVIDIA-SMI 535.104.05             Driver Version: 535.104.05   CUDA Version: 12.2     |\n",
            "|-----------------------------------------+----------------------+----------------------+\n",
            "| GPU  Name                 Persistence-M | Bus-Id        Disp.A | Volatile Uncorr. ECC |\n",
            "| Fan  Temp   Perf          Pwr:Usage/Cap |         Memory-Usage | GPU-Util  Compute M. |\n",
            "|                                         |                      |               MIG M. |\n",
            "|=========================================+======================+======================|\n",
            "|   0  Tesla T4                       Off | 00000000:00:04.0 Off |                    0 |\n",
            "| N/A   52C    P0              26W /  70W |    103MiB / 15360MiB |      0%      Default |\n",
            "|                                         |                      |                  N/A |\n",
            "+-----------------------------------------+----------------------+----------------------+\n",
            "                                                                                         \n",
            "+---------------------------------------------------------------------------------------+\n",
            "| Processes:                                                                            |\n",
            "|  GPU   GI   CI        PID   Type   Process name                            GPU Memory |\n",
            "|        ID   ID                                                             Usage      |\n",
            "|=======================================================================================|\n",
            "+---------------------------------------------------------------------------------------+\n"
          ]
        }
      ]
    },
    {
      "cell_type": "markdown",
      "metadata": {
        "id": "meIAavg6mnva"
      },
      "source": [
        "Check the runtime comparison"
      ]
    },
    {
      "cell_type": "code",
      "metadata": {
        "id": "_SoUuPUymX-i",
        "colab": {
          "base_uri": "https://localhost:8080/"
        },
        "outputId": "a0453bcc-d8a5-4d99-9a48-b6dee39d3cdc"
      },
      "source": [
        "import time\n",
        "\n",
        "cpu_slot = 0\n",
        "gpu_slot = 0\n",
        "\n",
        "# Using CPU at slot 0\n",
        "with tf.device('/CPU:' + str(cpu_slot)):\n",
        "    # Starting a timer\n",
        "    start = time.time()\n",
        "\n",
        "    # Doing operations on CPU\n",
        "    random_image_cpu = tf.random.normal((100, 100, 100, 3))\n",
        "    net_cpu = tf.reduce_sum(random_image_cpu)\n",
        "\n",
        "    # Printing how long it took with CPU\n",
        "    end_cpu = time.time() - start\n",
        "    print(end_cpu)\n",
        "\n",
        "# Using the GPU at slot 0\n",
        "with tf.device('/GPU:' + str(gpu_slot)):\n",
        "    # Starting a timer\n",
        "    start = time.time()\n",
        "\n",
        "    # Doing operations on GPU\n",
        "    random_image_gpu = tf.random.normal((100, 100, 100, 3))\n",
        "    net_gpu = tf.reduce_sum(random_image_gpu)\n",
        "\n",
        "    # Printing how long it took with GPU\n",
        "    end_gpu = time.time() - start\n",
        "    print(end_gpu)\n",
        "print('GPU speedup over CPU: {}x'.format(int(end_cpu/end_gpu)))"
      ],
      "execution_count": null,
      "outputs": [
        {
          "output_type": "stream",
          "name": "stdout",
          "text": [
            "0.05357694625854492\n",
            "0.0018322467803955078\n",
            "GPU speedup over CPU: 29x\n"
          ]
        }
      ]
    },
    {
      "cell_type": "markdown",
      "metadata": {
        "id": "Mnk9WgLznexv"
      },
      "source": [
        "Basic Datatypes"
      ]
    },
    {
      "cell_type": "markdown",
      "metadata": {
        "id": "8ArPSlQ4njYA"
      },
      "source": [
        "**Constant**\n"
      ]
    },
    {
      "cell_type": "code",
      "metadata": {
        "id": "uQIA2PXVnnIL",
        "colab": {
          "base_uri": "https://localhost:8080/"
        },
        "outputId": "e31e3c44-59c9-4c64-b306-5ff28c080498"
      },
      "source": [
        "c = tf.constant(4.0, dtype=tf.float64)\n",
        "c.dtype"
      ],
      "execution_count": null,
      "outputs": [
        {
          "output_type": "execute_result",
          "data": {
            "text/plain": [
              "tf.float64"
            ]
          },
          "metadata": {},
          "execution_count": 13
        }
      ]
    },
    {
      "cell_type": "code",
      "metadata": {
        "id": "Yg4x-gsjdb_a",
        "colab": {
          "base_uri": "https://localhost:8080/"
        },
        "outputId": "95705985-d42c-45f1-c5b1-0e20d051eee5"
      },
      "source": [
        "print(c)"
      ],
      "execution_count": null,
      "outputs": [
        {
          "output_type": "stream",
          "name": "stdout",
          "text": [
            "tf.Tensor(4.0, shape=(), dtype=float64)\n"
          ]
        }
      ]
    },
    {
      "cell_type": "code",
      "metadata": {
        "id": "vKXMJZEgoX5P",
        "colab": {
          "base_uri": "https://localhost:8080/"
        },
        "outputId": "d9975e94-16a3-43d6-c48a-3ce5acb2ee47"
      },
      "source": [
        "import numpy as np\n",
        "d = np.array([ [1,2,3], [4,5,6]])\n",
        "d.dtype"
      ],
      "execution_count": null,
      "outputs": [
        {
          "output_type": "execute_result",
          "data": {
            "text/plain": [
              "dtype('int64')"
            ]
          },
          "metadata": {},
          "execution_count": 15
        }
      ]
    },
    {
      "cell_type": "code",
      "metadata": {
        "id": "6TTHXQKWodYA",
        "colab": {
          "base_uri": "https://localhost:8080/"
        },
        "outputId": "e85241e4-dde8-434e-aeae-89c8948150ba"
      },
      "source": [
        "e = tf.constant(d)\n",
        "print(e)"
      ],
      "execution_count": null,
      "outputs": [
        {
          "output_type": "stream",
          "name": "stdout",
          "text": [
            "tf.Tensor(\n",
            "[[1 2 3]\n",
            " [4 5 6]], shape=(2, 3), dtype=int64)\n"
          ]
        }
      ]
    },
    {
      "cell_type": "code",
      "metadata": {
        "id": "_YqkPVigd_fj",
        "colab": {
          "base_uri": "https://localhost:8080/"
        },
        "outputId": "c96a475a-514c-4448-8f8a-b4c5e640d990"
      },
      "source": [
        "e.dtype"
      ],
      "execution_count": null,
      "outputs": [
        {
          "output_type": "execute_result",
          "data": {
            "text/plain": [
              "tf.int64"
            ]
          },
          "metadata": {},
          "execution_count": 17
        }
      ]
    },
    {
      "cell_type": "code",
      "metadata": {
        "id": "FyxVHoqfolIE",
        "colab": {
          "base_uri": "https://localhost:8080/"
        },
        "outputId": "ba52bfb2-91a9-4a33-a231-6b04027aec3f"
      },
      "source": [
        "b = tf.constant( [1,0,1])\n",
        "print (b)\n",
        "b = tf.expand_dims(b,1)\n",
        "b.shape\n",
        "b"
      ],
      "execution_count": null,
      "outputs": [
        {
          "output_type": "stream",
          "name": "stdout",
          "text": [
            "tf.Tensor([1 0 1], shape=(3,), dtype=int32)\n"
          ]
        },
        {
          "output_type": "execute_result",
          "data": {
            "text/plain": [
              "<tf.Tensor: shape=(3, 1), dtype=int32, numpy=\n",
              "array([[1],\n",
              "       [0],\n",
              "       [1]], dtype=int32)>"
            ]
          },
          "metadata": {},
          "execution_count": 18
        }
      ]
    },
    {
      "cell_type": "code",
      "metadata": {
        "id": "FKCokg4MuPt7",
        "colab": {
          "base_uri": "https://localhost:8080/"
        },
        "outputId": "7e456f3e-6c65-4d02-d6ee-d43430dd0944"
      },
      "source": [
        "tf.random.normal(shape=(10,10), mean=0., stddev=1.)"
      ],
      "execution_count": null,
      "outputs": [
        {
          "output_type": "execute_result",
          "data": {
            "text/plain": [
              "<tf.Tensor: shape=(10, 10), dtype=float32, numpy=\n",
              "array([[ 0.12573062,  0.46320528,  0.7029934 , -1.7764504 , -0.34857577,\n",
              "        -0.7954146 , -1.0305321 ,  1.025787  ,  0.60246646,  0.61368006],\n",
              "       [ 0.70741904,  0.5353028 ,  0.18150899,  0.1629454 , -0.3487283 ,\n",
              "         0.0109113 ,  1.2978622 ,  0.23553881, -1.2931772 , -0.37972566],\n",
              "       [-0.40261292,  0.56782436,  0.5413016 , -0.07257798, -1.3578783 ,\n",
              "        -2.5503192 ,  1.0281583 , -1.1387393 , -1.4759257 , -1.0458381 ],\n",
              "       [-0.7116127 , -0.04017811,  0.12178895, -0.29131275,  0.54015446,\n",
              "        -0.3966985 ,  1.2635022 ,  0.6463509 ,  1.1337544 , -0.02937857],\n",
              "       [-2.4938483 ,  0.6688465 , -0.76765645,  1.3197142 ,  0.6072693 ,\n",
              "         1.4456718 ,  0.94113845, -1.6337845 ,  0.07544285,  1.1286925 ],\n",
              "       [ 0.666254  , -0.49752256,  0.85845774,  1.3763189 ,  0.64929974,\n",
              "         1.1104733 , -0.01741618, -0.10869764, -1.4899554 , -1.3056877 ],\n",
              "       [ 0.49510378,  0.40816957, -0.31648666, -1.4267706 , -0.65686953,\n",
              "         0.3358025 ,  0.10352091,  0.718667  ,  0.9267029 ,  0.4663387 ],\n",
              "       [ 0.5960959 , -1.5606397 ,  0.37925577, -1.9156592 ,  0.38354734,\n",
              "        -1.1189423 ,  0.655046  , -0.4856168 , -0.03145596,  1.6680336 ],\n",
              "       [-0.37536263,  0.20381041, -0.6366    , -0.47467992,  0.71558785,\n",
              "         0.8913543 , -0.03534513, -0.43618277,  0.03335156, -0.13993503],\n",
              "       [ 1.7039422 , -1.4572134 , -1.1465713 , -1.2158194 , -2.0668564 ,\n",
              "        -1.2350316 ,  1.5522803 , -0.28335676,  0.1987045 ,  3.1576412 ]],\n",
              "      dtype=float32)>"
            ]
          },
          "metadata": {},
          "execution_count": 19
        }
      ]
    },
    {
      "cell_type": "code",
      "metadata": {
        "id": "OgSXd0T-uTwX",
        "colab": {
          "base_uri": "https://localhost:8080/"
        },
        "outputId": "6e8f84a5-ff15-4f49-df65-cfe43a7448bc"
      },
      "source": [
        "tf.random.uniform(shape=(10, 10), minval=0, maxval=10, dtype='int32')"
      ],
      "execution_count": null,
      "outputs": [
        {
          "output_type": "execute_result",
          "data": {
            "text/plain": [
              "<tf.Tensor: shape=(10, 10), dtype=int32, numpy=\n",
              "array([[6, 9, 4, 9, 2, 5, 1, 2, 0, 2],\n",
              "       [8, 1, 7, 5, 4, 3, 9, 8, 9, 7],\n",
              "       [5, 4, 4, 7, 0, 8, 1, 6, 8, 2],\n",
              "       [1, 0, 8, 5, 6, 5, 2, 8, 7, 3],\n",
              "       [5, 9, 6, 2, 3, 5, 0, 7, 7, 3],\n",
              "       [2, 8, 2, 0, 7, 8, 7, 4, 1, 0],\n",
              "       [8, 9, 3, 8, 1, 9, 5, 1, 2, 4],\n",
              "       [2, 5, 8, 1, 8, 2, 5, 4, 4, 0],\n",
              "       [1, 1, 8, 4, 1, 5, 9, 6, 9, 5],\n",
              "       [4, 1, 9, 9, 4, 7, 9, 9, 1, 4]], dtype=int32)>"
            ]
          },
          "metadata": {},
          "execution_count": 20
        }
      ]
    },
    {
      "cell_type": "markdown",
      "metadata": {
        "id": "Vsu3IENkrPiT"
      },
      "source": [
        "**Variables**"
      ]
    },
    {
      "cell_type": "code",
      "metadata": {
        "id": "t8TJMm9arQmf",
        "colab": {
          "base_uri": "https://localhost:8080/"
        },
        "outputId": "b89913cb-fbe2-4ed8-badd-d3f9a0def249"
      },
      "source": [
        "init_vals = tf.random.normal((1,5),0,1)\n",
        "var = tf.Variable(init_vals)\n",
        "print(var)"
      ],
      "execution_count": null,
      "outputs": [
        {
          "output_type": "stream",
          "name": "stdout",
          "text": [
            "<tf.Variable 'Variable:0' shape=(1, 5) dtype=float32, numpy=\n",
            "array([[ 0.21268356, -0.09350217, -1.7980757 ,  1.8558645 , -0.9391016 ]],\n",
            "      dtype=float32)>\n"
          ]
        }
      ]
    },
    {
      "cell_type": "code",
      "metadata": {
        "id": "4sJHvnOwmIMh",
        "colab": {
          "base_uri": "https://localhost:8080/"
        },
        "outputId": "aa08f41c-8239-4d03-8bd0-ed8a59826a5b"
      },
      "source": [
        "var.dtype"
      ],
      "execution_count": null,
      "outputs": [
        {
          "output_type": "execute_result",
          "data": {
            "text/plain": [
              "tf.float32"
            ]
          },
          "metadata": {},
          "execution_count": 22
        }
      ]
    },
    {
      "cell_type": "markdown",
      "metadata": {
        "id": "vQK6S0L1ubNL"
      },
      "source": [
        "We update the value of a Variable by using the methods .assign(value), or .assign_add(increment) or .assign_sub(decrement):"
      ]
    },
    {
      "cell_type": "code",
      "metadata": {
        "id": "ZpmZNtjEuh7m",
        "colab": {
          "base_uri": "https://localhost:8080/"
        },
        "outputId": "f4a58731-4ba2-42bd-8e26-a36bff095237"
      },
      "source": [
        "initial_value = tf.random.normal(shape=(2, 2))\n",
        "a = tf.Variable(initial_value)\n",
        "print(a)"
      ],
      "execution_count": null,
      "outputs": [
        {
          "output_type": "stream",
          "name": "stdout",
          "text": [
            "<tf.Variable 'Variable:0' shape=(2, 2) dtype=float32, numpy=\n",
            "array([[-0.1365942, -0.3197508],\n",
            "       [-0.6115111, -0.9428835]], dtype=float32)>\n"
          ]
        }
      ]
    },
    {
      "cell_type": "code",
      "metadata": {
        "id": "P6En2MDKua3o",
        "colab": {
          "base_uri": "https://localhost:8080/"
        },
        "outputId": "2a076865-818e-4d1e-9191-a25815f01b7a"
      },
      "source": [
        "new_value = tf.random.normal(shape=(2, 2))\n",
        "print(new_value)\n",
        "a.assign(new_value)\n",
        "for i in range(2):\n",
        "  for j in range(2):\n",
        "    assert a[i, j] == new_value[i, j]"
      ],
      "execution_count": null,
      "outputs": [
        {
          "output_type": "stream",
          "name": "stdout",
          "text": [
            "tf.Tensor(\n",
            "[[ 0.6933254   0.8489087 ]\n",
            " [-0.17245397  0.21287769]], shape=(2, 2), dtype=float32)\n"
          ]
        }
      ]
    },
    {
      "cell_type": "code",
      "metadata": {
        "id": "GKnyS_eHmbNh",
        "colab": {
          "base_uri": "https://localhost:8080/"
        },
        "outputId": "43f83805-0c07-475e-b9da-c480ff7ddd3d"
      },
      "source": [
        "print (a)"
      ],
      "execution_count": null,
      "outputs": [
        {
          "output_type": "stream",
          "name": "stdout",
          "text": [
            "<tf.Variable 'Variable:0' shape=(2, 2) dtype=float32, numpy=\n",
            "array([[ 0.6933254 ,  0.8489087 ],\n",
            "       [-0.17245397,  0.21287769]], dtype=float32)>\n"
          ]
        }
      ]
    },
    {
      "cell_type": "code",
      "metadata": {
        "id": "7l6PSFx-aq3D",
        "colab": {
          "base_uri": "https://localhost:8080/"
        },
        "outputId": "5d7a73be-7718-4190-c4a1-e772cd1c697f"
      },
      "source": [
        "print(new_value)"
      ],
      "execution_count": null,
      "outputs": [
        {
          "output_type": "stream",
          "name": "stdout",
          "text": [
            "tf.Tensor(\n",
            "[[ 0.6933254   0.8489087 ]\n",
            " [-0.17245397  0.21287769]], shape=(2, 2), dtype=float32)\n"
          ]
        }
      ]
    },
    {
      "cell_type": "code",
      "metadata": {
        "id": "tO4mdlGXumvt"
      },
      "source": [
        "added_value = tf.random.normal(shape=(2, 2))\n",
        "a.assign_add(added_value)\n",
        "for i in range(2):\n",
        "  for j in range(2):\n",
        "    assert a[i, j] == new_value[i, j] + added_value[i, j]"
      ],
      "execution_count": null,
      "outputs": []
    },
    {
      "cell_type": "code",
      "metadata": {
        "id": "ZIJNerMJmnRG",
        "colab": {
          "base_uri": "https://localhost:8080/"
        },
        "outputId": "3888d4ed-7695-4235-d9c8-e601ebbeb2e1"
      },
      "source": [
        "print(a)"
      ],
      "execution_count": null,
      "outputs": [
        {
          "output_type": "stream",
          "name": "stdout",
          "text": [
            "<tf.Variable 'Variable:0' shape=(2, 2) dtype=float32, numpy=\n",
            "array([[2.3966696, 2.1584718],\n",
            "       [1.5527835, 0.5299032]], dtype=float32)>\n"
          ]
        }
      ]
    },
    {
      "cell_type": "code",
      "metadata": {
        "id": "TtDgfx7ru0OJ"
      },
      "source": [
        "a = tf.random.normal(shape=(2, 2))\n",
        "b = tf.random.normal(shape=(2, 2))\n",
        "\n",
        "c = a + b\n",
        "d = tf.square(c)\n",
        "e = tf.exp(d)"
      ],
      "execution_count": null,
      "outputs": []
    },
    {
      "cell_type": "code",
      "metadata": {
        "id": "XbgUOeQAu4En",
        "colab": {
          "base_uri": "https://localhost:8080/"
        },
        "outputId": "37e2ecbf-47ee-4714-8cc5-feb8ccc0afd4"
      },
      "source": [
        "print (c,d,e)"
      ],
      "execution_count": null,
      "outputs": [
        {
          "output_type": "stream",
          "name": "stdout",
          "text": [
            "tf.Tensor(\n",
            "[[ 0.6986246  -0.04489219]\n",
            " [-0.4582258   1.0418181 ]], shape=(2, 2), dtype=float32) tf.Tensor(\n",
            "[[0.48807636 0.00201531]\n",
            " [0.20997088 1.0853851 ]], shape=(2, 2), dtype=float32) tf.Tensor(\n",
            "[[1.6291792 1.0020174]\n",
            " [1.2336421 2.9605796]], shape=(2, 2), dtype=float32)\n"
          ]
        }
      ]
    },
    {
      "cell_type": "markdown",
      "metadata": {
        "id": "DwR3H7bNr5Uu"
      },
      "source": [
        "**Simple Operations**\n",
        "\n",
        "We need to know the basic operations in tensorflow, in order to be able to use tensorflow for most of our work.\n",
        "\n",
        "**Common Use**\n",
        "\n",
        "This is some of the common functions from tensorflow, that you will probably need to use at some point.\n",
        "\n",
        "* Making tensors tf.constant and tf.Variable\n",
        "\n",
        "* Concatenation of two tensors by tf.concat\n",
        "\n",
        "* Making tensors by tf.zeros or tf.ones\n",
        "\n",
        "* Reshape data by tf.reshape\n",
        "\n",
        "* Casting tensors to other data types by tf.cast"
      ]
    },
    {
      "cell_type": "markdown",
      "metadata": {
        "id": "OYq1CjOtsZMJ"
      },
      "source": [
        "Concatenation by tf.concat and making tensors by tf.constant"
      ]
    },
    {
      "cell_type": "code",
      "metadata": {
        "id": "cqxn6Jl_sVPm",
        "colab": {
          "base_uri": "https://localhost:8080/"
        },
        "outputId": "fdf6a593-5f24-4b6d-a9e6-4ba735bfc48e"
      },
      "source": [
        "# Making a constant tensor A, that does not change\n",
        "A = tf.constant([[3, 2],\n",
        "                 [5, 2]])\n",
        "\n",
        "# Making a Variable tensor VA, which can change. Notice it's .Variable\n",
        "VA = tf.Variable([[3, 2],\n",
        "                 [5, 2]])\n",
        "\n",
        "# Making another tensor B\n",
        "B = tf.constant([[9, 5],\n",
        "                 [1, 3]])\n",
        "\n",
        "# Concatenate columns\n",
        "AB_concatenated = tf.concat(values=[A, B], axis=1)\n",
        "print(('Adding B\\'s columns to A:\\n{0}').format(\n",
        "    AB_concatenated.numpy()\n",
        "))\n",
        "\n",
        "# Concatenate rows\n",
        "AB_concatenated = tf.concat(values=[A, B], axis=0)\n",
        "print(('\\nAdding B\\'s rows to A:\\n{0}').format(\n",
        "    AB_concatenated.numpy()\n",
        "))"
      ],
      "execution_count": null,
      "outputs": [
        {
          "output_type": "stream",
          "name": "stdout",
          "text": [
            "Adding B's columns to A:\n",
            "[[3 2 9 5]\n",
            " [5 2 1 3]]\n",
            "\n",
            "Adding B's rows to A:\n",
            "[[3 2]\n",
            " [5 2]\n",
            " [9 5]\n",
            " [1 3]]\n"
          ]
        }
      ]
    },
    {
      "cell_type": "code",
      "metadata": {
        "id": "dJsygKq40xI5"
      },
      "source": [
        "A = B"
      ],
      "execution_count": null,
      "outputs": []
    },
    {
      "cell_type": "code",
      "metadata": {
        "colab": {
          "base_uri": "https://localhost:8080/"
        },
        "id": "rDqSiLHy1XYd",
        "outputId": "123a4c1f-4dd5-4c75-94de-33823f19be15"
      },
      "source": [
        "print (A)"
      ],
      "execution_count": null,
      "outputs": [
        {
          "output_type": "stream",
          "name": "stdout",
          "text": [
            "tf.Tensor(\n",
            "[[9 5]\n",
            " [1 3]], shape=(2, 2), dtype=int32)\n"
          ]
        }
      ]
    },
    {
      "cell_type": "code",
      "metadata": {
        "colab": {
          "base_uri": "https://localhost:8080/"
        },
        "id": "GUy8kflcdkI6",
        "outputId": "b1dc3231-65f1-47e3-9abb-5c42a25df513"
      },
      "source": [
        "AB_concatenated"
      ],
      "execution_count": null,
      "outputs": [
        {
          "output_type": "execute_result",
          "data": {
            "text/plain": [
              "<tf.Tensor: shape=(4, 2), dtype=int32, numpy=\n",
              "array([[3, 2],\n",
              "       [5, 2],\n",
              "       [9, 5],\n",
              "       [1, 3]], dtype=int32)>"
            ]
          },
          "metadata": {},
          "execution_count": 34
        }
      ]
    },
    {
      "cell_type": "markdown",
      "metadata": {
        "id": "_LDKQgHYtCnV"
      },
      "source": [
        "Making tensors by tf.zeros and tf.ones\n"
      ]
    },
    {
      "cell_type": "code",
      "metadata": {
        "id": "K72HOBvytGyL",
        "colab": {
          "base_uri": "https://localhost:8080/"
        },
        "outputId": "3f657f86-6550-48d5-be93-82d3ce1e7a2c"
      },
      "source": [
        "# Making a tensor filled with zeros. shape=[rows, columns]\n",
        "tensor = tf.zeros(shape=[3, 4], dtype=tf.int32)\n",
        "print(('Tensor full of zeros as int32, 3 rows and 4 columns:\\n{0}').format(\n",
        "    tensor.numpy()\n",
        "))\n",
        "\n",
        "# Making a tensor filled with zeros with data type of float32\n",
        "tensor = tf.ones(shape=[5, 3], dtype=tf.float32)\n",
        "print(('\\nTensor full of ones as float32, 5 rows and 3 columns:\\n{0}').format(\n",
        "    tensor.numpy()\n",
        "))"
      ],
      "execution_count": null,
      "outputs": [
        {
          "output_type": "stream",
          "name": "stdout",
          "text": [
            "Tensor full of zeros as int32, 3 rows and 4 columns:\n",
            "[[0 0 0 0]\n",
            " [0 0 0 0]\n",
            " [0 0 0 0]]\n",
            "\n",
            "Tensor full of ones as float32, 5 rows and 3 columns:\n",
            "[[1. 1. 1.]\n",
            " [1. 1. 1.]\n",
            " [1. 1. 1.]\n",
            " [1. 1. 1.]\n",
            " [1. 1. 1.]]\n"
          ]
        }
      ]
    },
    {
      "cell_type": "code",
      "metadata": {
        "id": "yrrSb66AtNdn",
        "colab": {
          "base_uri": "https://localhost:8080/"
        },
        "outputId": "eb63e75c-6b82-43bd-f63c-b16390c71052"
      },
      "source": [
        "# Making a tensor for reshaping\n",
        "tensor = tf.constant([[3, 2],\n",
        "                      [5, 2],\n",
        "                      [9, 5],\n",
        "                      [1, 3]])\n",
        "\n",
        "# Reshaping the tensor into a shape of: shape = [rows, columns]\n",
        "reshaped_tensor = tf.reshape(tensor=tensor,\n",
        "                            shape=[1, 8])\n",
        "\n",
        "print(('Tensor BEFORE reshape:\\n{0}').format(\n",
        "    tensor.numpy()\n",
        "))\n",
        "print(('\\nTensor AFTER reshape:\\n{0}').format(\n",
        "    reshaped_tensor.numpy()\n",
        "))"
      ],
      "execution_count": null,
      "outputs": [
        {
          "output_type": "stream",
          "name": "stdout",
          "text": [
            "Tensor BEFORE reshape:\n",
            "[[3 2]\n",
            " [5 2]\n",
            " [9 5]\n",
            " [1 3]]\n",
            "\n",
            "Tensor AFTER reshape:\n",
            "[[3 2 5 2 9 5 1 3]]\n"
          ]
        }
      ]
    },
    {
      "cell_type": "code",
      "metadata": {
        "id": "VfzeXWSNtVuI",
        "colab": {
          "base_uri": "https://localhost:8080/"
        },
        "outputId": "7e3bcf38-0a04-43c3-ca67-9c187d8a4876"
      },
      "source": [
        "# Making a tensor\n",
        "tensor = tf.constant([[3.1, 2.8],\n",
        "                      [5.2, 2.3],\n",
        "                      [9.7, 5.5],\n",
        "                      [1.1, 3.4]],\n",
        "                      dtype=tf.float32)\n",
        "\n",
        "tensor_as_int = tf.cast(tensor, tf.int32)\n",
        "\n",
        "print(('Tensor with floats:\\n{0}').format(\n",
        "    tensor.numpy()\n",
        "))\n",
        "print(('\\nTensor cast from float to int (just remove the decimal, no rounding):\\n{0}').format(\n",
        "    tensor_as_int.numpy()\n",
        "))"
      ],
      "execution_count": null,
      "outputs": [
        {
          "output_type": "stream",
          "name": "stdout",
          "text": [
            "Tensor with floats:\n",
            "[[3.1 2.8]\n",
            " [5.2 2.3]\n",
            " [9.7 5.5]\n",
            " [1.1 3.4]]\n",
            "\n",
            "Tensor cast from float to int (just remove the decimal, no rounding):\n",
            "[[3 2]\n",
            " [5 2]\n",
            " [9 5]\n",
            " [1 3]]\n"
          ]
        }
      ]
    },
    {
      "cell_type": "markdown",
      "metadata": {
        "id": "CZhbGkH8tcS7"
      },
      "source": [
        "### The linear algebra operations\n",
        "* Transpose tensor\n",
        "* Matrix Multiplication\n",
        "* Element-wise multiplication\n",
        "* Identity Matrix\n",
        "* Determinant\n",
        "* Dot Product"
      ]
    },
    {
      "cell_type": "code",
      "metadata": {
        "id": "ISQcseLltin5",
        "colab": {
          "base_uri": "https://localhost:8080/"
        },
        "outputId": "db743f02-0a25-400e-ff38-fae70defae20"
      },
      "source": [
        "# Some Matrix A\n",
        "A = tf.constant([[3, 7],\n",
        "                 [1, 9]])\n",
        "\n",
        "A = tf.transpose(A)\n",
        "\n",
        "print(('The transposed matrix A:\\n{0}').format(\n",
        "    A\n",
        "))"
      ],
      "execution_count": null,
      "outputs": [
        {
          "output_type": "stream",
          "name": "stdout",
          "text": [
            "The transposed matrix A:\n",
            "[[3 1]\n",
            " [7 9]]\n"
          ]
        }
      ]
    },
    {
      "cell_type": "code",
      "metadata": {
        "id": "kZNUbYcDtmJS",
        "colab": {
          "base_uri": "https://localhost:8080/"
        },
        "outputId": "2b99017b-570f-4fbb-9aaa-9d7c7fc1497a"
      },
      "source": [
        "# Some Matrix A\n",
        "A = tf.constant([[3, 7],\n",
        "                 [1, 9]])\n",
        "\n",
        "# Some vector v\n",
        "v = tf.constant([[5],\n",
        "                 [2]])\n",
        "\n",
        "# Matrix multiplication of A.v^T\n",
        "Av = tf.matmul(A, v)\n",
        "\n",
        "print(('Matrix Multiplication of A and v results in a new Tensor:\\n{0}').format(\n",
        "    Av\n",
        "))"
      ],
      "execution_count": null,
      "outputs": [
        {
          "output_type": "stream",
          "name": "stdout",
          "text": [
            "Matrix Multiplication of A and v results in a new Tensor:\n",
            "[[29]\n",
            " [23]]\n"
          ]
        }
      ]
    },
    {
      "cell_type": "code",
      "metadata": {
        "id": "KFHtRNCwtp3d",
        "colab": {
          "base_uri": "https://localhost:8080/"
        },
        "outputId": "2b7cae1f-61e4-4158-e82a-fee80b6417a7"
      },
      "source": [
        "# Element-wise multiplication\n",
        "Av = tf.multiply(A, v)\n",
        "\n",
        "print(('Element-wise multiplication of A and v results in a new Tensor:\\n{0}').format(\n",
        "    Av\n",
        "))"
      ],
      "execution_count": null,
      "outputs": [
        {
          "output_type": "stream",
          "name": "stdout",
          "text": [
            "Element-wise multiplication of A and v results in a new Tensor:\n",
            "[[15 35]\n",
            " [ 2 18]]\n"
          ]
        }
      ]
    },
    {
      "cell_type": "code",
      "metadata": {
        "id": "p_bcCgbWtu4Z",
        "colab": {
          "base_uri": "https://localhost:8080/"
        },
        "outputId": "dad324fa-cd95-4fe6-cca0-c310b2ce1c59"
      },
      "source": [
        "# Some Matrix A\n",
        "A = tf.constant([[3, 7],\n",
        "                 [1, 9],\n",
        "                 [2, 5]])\n",
        "\n",
        "# Get number of dimensions\n",
        "rows, columns = A.shape\n",
        "print(('Get rows and columns in tensor A:\\n{0} rows\\n{1} columns').format(\n",
        "    rows, columns\n",
        "))\n",
        "\n",
        "# Making identity matrix\n",
        "A_identity = tf.eye(num_rows = rows,\n",
        "                    num_columns = columns,\n",
        "                    dtype = tf.int32)\n",
        "print(('\\nThe identity matrix of A:\\n{0}').format(\n",
        "    A_identity.numpy()\n",
        "))"
      ],
      "execution_count": null,
      "outputs": [
        {
          "output_type": "stream",
          "name": "stdout",
          "text": [
            "Get rows and columns in tensor A:\n",
            "3 rows\n",
            "2 columns\n",
            "\n",
            "The identity matrix of A:\n",
            "[[1 0]\n",
            " [0 1]\n",
            " [0 0]]\n"
          ]
        }
      ]
    },
    {
      "cell_type": "code",
      "metadata": {
        "id": "dvM490dUtwSu",
        "colab": {
          "base_uri": "https://localhost:8080/"
        },
        "outputId": "a3cbb438-e206-4963-90be-7c888dadaa4b"
      },
      "source": [
        "# Reusing Matrix A\n",
        "A = tf.constant([[3, 7],\n",
        "                 [1, 9]])\n",
        "\n",
        "# Determinant must be: half, float32, float64, complex64, complex128\n",
        "# Thus, we cast A to the data type float32\n",
        "A = tf.dtypes.cast(A, tf.float32)\n",
        "\n",
        "# Finding the determinant of A\n",
        "det_A = tf.linalg.det(A)\n",
        "\n",
        "print(('The determinant of A:\\n{0}').format(\n",
        "    det_A\n",
        "))"
      ],
      "execution_count": null,
      "outputs": [
        {
          "output_type": "stream",
          "name": "stdout",
          "text": [
            "The determinant of A:\n",
            "20.000001907348633\n"
          ]
        }
      ]
    },
    {
      "cell_type": "code",
      "metadata": {
        "id": "5Tml7JLqt4Lg",
        "colab": {
          "base_uri": "https://localhost:8080/"
        },
        "outputId": "74e1191d-c130-48aa-d502-6dccdb08c7c8"
      },
      "source": [
        "# Defining a 3x3 matrix\n",
        "A = tf.constant([[32, 83, 5],\n",
        "                 [17, 23, 10],\n",
        "                 [75, 39, 52]])\n",
        "\n",
        "# Defining another 3x3 matrix\n",
        "B = tf.constant([[28, 57, 20],\n",
        "                 [91, 10, 95],\n",
        "                 [37, 13, 45]])\n",
        "\n",
        "# Finding the dot product\n",
        "dot_AB = tf.tensordot(a=A, b=B, axes=1).numpy()\n",
        "\n",
        "print(('Dot product of A.B^T results in a new Tensor:\\n{0}').format(\n",
        "    dot_AB\n",
        "))\n",
        "\n",
        "# Which is the same as matrix multiplication in this instance (axes=1)\n",
        "# Matrix multiplication of A and B\n",
        "AB = tf.matmul(A, B)\n",
        "\n",
        "print(('\\nMatrix Multiplication of A.B^T results in a new Tensor:\\n{0}').format(\n",
        "    AB\n",
        "))"
      ],
      "execution_count": null,
      "outputs": [
        {
          "output_type": "stream",
          "name": "stdout",
          "text": [
            "Dot product of A.B^T results in a new Tensor:\n",
            "[[8634 2719 8750]\n",
            " [2939 1329 2975]\n",
            " [7573 5341 7545]]\n",
            "\n",
            "Matrix Multiplication of A.B^T results in a new Tensor:\n",
            "[[8634 2719 8750]\n",
            " [2939 1329 2975]\n",
            " [7573 5341 7545]]\n"
          ]
        }
      ]
    },
    {
      "cell_type": "markdown",
      "metadata": {
        "id": "lQnif_fst-XY"
      },
      "source": [
        "### Calculating Gradients\n",
        "When using gradient tape from TensorFlow, we need to create a tf.Variable and not tf.constant, because TensorFlow does not watch constants. The great thing about making variables is that we can use gradient tape at any time, and TensorFlow will automatically give us the gradient."
      ]
    },
    {
      "cell_type": "code",
      "metadata": {
        "id": "uKny5OJZuA78",
        "colab": {
          "base_uri": "https://localhost:8080/"
        },
        "outputId": "3126588c-d19d-473c-cf41-adbf6e40d86e"
      },
      "source": [
        "a = tf.random.normal(shape=(2, 2))\n",
        "b = tf.random.normal(shape=(2, 2))\n",
        "\n",
        "print(a)\n",
        "print(b)\n",
        "\n",
        "with tf.GradientTape() as tape:\n",
        "  tape.watch(a)  # Start recording the history of operations applied to `a`\n",
        "  c = tf.sqrt(tf.square(a) + tf.square(b))  # Do some math using `a`\n",
        "  print (c)\n",
        "  # What's the gradient of `c` with respect to `a`?\n",
        "  dc_da = tape.gradient(c, a)\n",
        "  print(dc_da)\n",
        "#   dc_db= tape.gradient(c, b)\n",
        "#   print(dc_db)"
      ],
      "execution_count": null,
      "outputs": [
        {
          "output_type": "stream",
          "name": "stdout",
          "text": [
            "tf.Tensor(\n",
            "[[-0.8231844  -1.2216929 ]\n",
            " [ 0.62805235  2.812102  ]], shape=(2, 2), dtype=float32)\n",
            "tf.Tensor(\n",
            "[[0.7565386  0.4451168 ]\n",
            " [1.2582619  0.01776371]], shape=(2, 2), dtype=float32)\n",
            "tf.Tensor(\n",
            "[[1.1180265 1.3002547]\n",
            " [1.4062976 2.812158 ]], shape=(2, 2), dtype=float32)\n",
            "tf.Tensor(\n",
            "[[-0.7362834  -0.9395797 ]\n",
            " [ 0.4465999   0.99998003]], shape=(2, 2), dtype=float32)\n"
          ]
        }
      ]
    },
    {
      "cell_type": "code",
      "metadata": {
        "id": "UyEkKjaSvIUj",
        "colab": {
          "base_uri": "https://localhost:8080/"
        },
        "outputId": "5a1158d6-5960-48b2-bd1e-62cfdc1641c3"
      },
      "source": [
        "a = tf.Variable(a)\n",
        "\n",
        "with tf.GradientTape() as tape:\n",
        "  c = tf.sqrt(tf.square(a) + tf.square(b))\n",
        "  dc_da = tape.gradient(c, a)  # automatic gradient calculation\n",
        "  print(dc_da)"
      ],
      "execution_count": null,
      "outputs": [
        {
          "output_type": "stream",
          "name": "stdout",
          "text": [
            "tf.Tensor(\n",
            "[[-0.7362834  -0.9395797 ]\n",
            " [ 0.4465999   0.99998003]], shape=(2, 2), dtype=float32)\n"
          ]
        }
      ]
    },
    {
      "cell_type": "code",
      "metadata": {
        "colab": {
          "base_uri": "https://localhost:8080/"
        },
        "id": "KDl0qCQTtZ0s",
        "outputId": "bc44d91e-aac5-46eb-f8e5-e088ff8a5dde"
      },
      "source": [
        "b = tf.Variable(b)\n",
        "\n",
        "with tf.GradientTape() as tape:\n",
        "  c = tf.sqrt(tf.square(a) + tf.square(b))\n",
        "  dc_db = tape.gradient(c, b)  # automatic gradient calculation\n",
        "  print(dc_db)"
      ],
      "execution_count": null,
      "outputs": [
        {
          "output_type": "stream",
          "name": "stdout",
          "text": [
            "tf.Tensor(\n",
            "[[0.6766733  0.34233046]\n",
            " [0.8947337  0.00631675]], shape=(2, 2), dtype=float32)\n"
          ]
        }
      ]
    },
    {
      "cell_type": "code",
      "metadata": {
        "id": "MfHvEMtWvL-n",
        "colab": {
          "base_uri": "https://localhost:8080/"
        },
        "outputId": "4f766fb3-7362-49d3-c653-e4fd5e7e736f"
      },
      "source": [
        "with tf.GradientTape() as outer_tape:\n",
        "  with tf.GradientTape() as tape:\n",
        "    c = tf.sqrt(tf.square(a) + tf.square(b))\n",
        "    dc_da = tape.gradient(c, a)\n",
        "  d2c_da2 = outer_tape.gradient(dc_da, a)\n",
        "  print(d2c_da2)   # double differentiation"
      ],
      "execution_count": null,
      "outputs": [
        {
          "output_type": "stream",
          "name": "stdout",
          "text": [
            "tf.Tensor(\n",
            "[[4.0954906e-01 9.0128481e-02]\n",
            " [5.6925970e-01 1.4156103e-05]], shape=(2, 2), dtype=float32)\n"
          ]
        }
      ]
    },
    {
      "cell_type": "markdown",
      "metadata": {
        "id": "Uhxm3yPWvT9B"
      },
      "source": [
        "Lets take an example of Hyperbolic Tan function (tanh) and try to get its derivative.\n"
      ]
    },
    {
      "cell_type": "markdown",
      "metadata": {
        "id": "CbCpEO82wNSC"
      },
      "source": [
        "![alt text](https://mathworld.wolfram.com/images/interactive/TanhReal.gif)"
      ]
    },
    {
      "cell_type": "code",
      "metadata": {
        "colab": {
          "base_uri": "https://localhost:8080/"
        },
        "id": "GZPR687cvcnC",
        "outputId": "481bf9ca-deec-4f25-ef39-ee4f0ba6acf1"
      },
      "source": [
        "tf.tanh(2.0)"
      ],
      "execution_count": null,
      "outputs": [
        {
          "output_type": "execute_result",
          "data": {
            "text/plain": [
              "<tf.Tensor: shape=(), dtype=float32, numpy=0.9640276>"
            ]
          },
          "metadata": {},
          "execution_count": 49
        }
      ]
    },
    {
      "cell_type": "code",
      "metadata": {
        "id": "_cviVWPQvbDR",
        "colab": {
          "base_uri": "https://localhost:8080/"
        },
        "outputId": "76881daa-146a-452d-8f95-ee282d892557"
      },
      "source": [
        "import math\n",
        "\n",
        "def tanh(x):\n",
        "    return tf.tanh(x)\n",
        "\n",
        "def get_gradient(x, activation_function):\n",
        "    with tf.GradientTape() as gt:\n",
        "        y = activation_function(x)\n",
        "\n",
        "        gradient = gt.gradient(y, x).numpy()\n",
        "\n",
        "    return gradient\n",
        "\n",
        "x = tf.Variable(-4.59)\n",
        "gradient = get_gradient(x,tanh)\n",
        "\n",
        "print('{0} is the gradient of tanh with x={1}'.format(gradient, x.numpy()))"
      ],
      "execution_count": null,
      "outputs": [
        {
          "output_type": "stream",
          "name": "stdout",
          "text": [
            "0.00041218323167413473 is the gradient of tanh with x=-4.590000152587891\n"
          ]
        }
      ]
    },
    {
      "cell_type": "markdown",
      "metadata": {
        "id": "6178V2xWxF1z"
      },
      "source": [
        "### An end-to-end example: linear regression\n",
        "So far we have learned that TensorFlow is a Numpy-like library that is GPU or TPU accelerated, with automatic differentiation. Time for an end-to-end example: let's implement a linear regression."
      ]
    },
    {
      "cell_type": "code",
      "metadata": {
        "id": "SE0JpcJ6xNsp"
      },
      "source": [
        "input_dim = 2\n",
        "output_dim = 1\n",
        "learning_rate = 0.01 # subject to change\n",
        "\n",
        "# This is our weight matrix\n",
        "w = tf.Variable(tf.random.uniform(shape=(input_dim, output_dim))) # parameters, equal to theta\n",
        "# This is our bias vector\n",
        "b = tf.Variable(tf.zeros(shape=(output_dim,))) # intercept\n",
        "\n",
        "def compute_predictions(features): # define hypothesis\n",
        "  return tf.matmul(features, w) + b\n",
        "\n",
        "def compute_loss(labels, predictions): # define MSE\n",
        "  return tf.reduce_mean(tf.square(labels - predictions))\n",
        "\n",
        "def train(x, y): # training and updating through GD updates\n",
        "  with tf.GradientTape() as tape:\n",
        "    predictions = compute_predictions(x) # y_pred or y hat\n",
        "    loss = compute_loss(y, predictions)  # loss returned\n",
        "    dloss_dw, dloss_db = tape.gradient(loss, [w, b]) # gradient w.r.t. w and b\n",
        "  w.assign_sub(learning_rate * dloss_dw) # reassign weights\n",
        "  b.assign_sub(learning_rate * dloss_db) # reassign bias\n",
        "  return loss"
      ],
      "execution_count": null,
      "outputs": []
    },
    {
      "cell_type": "code",
      "metadata": {
        "id": "IR899iPvyUUW"
      },
      "source": [
        "# Homework.\n",
        "'''To generate data and utilize the above code to run a simple linear regression.'''\n",
        "tol = 1e-3\n",
        "# write function for predict()\n",
        "# write a R2 and adjusted R2 score metric\n",
        "# write a loop and stop training when tolerance condition is met"
      ],
      "execution_count": null,
      "outputs": []
    },
    {
      "cell_type": "code",
      "metadata": {
        "id": "YY0gSHiouPNP",
        "colab": {
          "base_uri": "https://localhost:8080/",
          "height": 131
        },
        "outputId": "0f9e9a10-9229-4f12-9c88-15f9e046193a"
      },
      "source": [
        "# numpy and random function create your own data.\n",
        "\n",
        "x1 = [10 to 50] # 100 points\n",
        "x2 = [25 to 100] # 100 points\n",
        "y = w1.x1 + w2x2 + 50 * noise # data generation\n",
        "\n",
        "# def r2(y_pred, y_true):\n",
        "#     return 1- (sum(np.pow((y_pred-y_true),2))/sum(np.pow((mean(y_true)-y_true),2))\n"
      ],
      "execution_count": null,
      "outputs": [
        {
          "output_type": "error",
          "ename": "SyntaxError",
          "evalue": "ignored",
          "traceback": [
            "\u001b[0;36m  File \u001b[0;32m\"<ipython-input-45-0ccd3a887eaf>\"\u001b[0;36m, line \u001b[0;32m1\u001b[0m\n\u001b[0;31m    numpy and random function create your own data.\u001b[0m\n\u001b[0m                            ^\u001b[0m\n\u001b[0;31mSyntaxError\u001b[0m\u001b[0;31m:\u001b[0m invalid syntax\n"
          ]
        }
      ]
    },
    {
      "cell_type": "markdown",
      "metadata": {
        "id": "2SHwiN21ybHD"
      },
      "source": [
        "**Going fast with graphs**\n",
        "\n",
        "Literally all we need to do is add the tf.function decorator on it"
      ]
    },
    {
      "cell_type": "code",
      "metadata": {
        "id": "HaMGa3viy5rQ"
      },
      "source": [
        "# dummy code\n",
        "@tf.function\n",
        "def train_on_batch(x, y):\n",
        "  with tf.GradientTape() as tape:\n",
        "    predictions = compute_predictions(x)\n",
        "    loss = compute_loss(y, predictions)\n",
        "    dloss_dw, dloss_db = tape.gradient(loss, [w, b])\n",
        "  w.assign_sub(learning_rate * dloss_dw)\n",
        "  b.assign_sub(learning_rate * dloss_db)\n",
        "  return loss"
      ],
      "execution_count": null,
      "outputs": []
    },
    {
      "cell_type": "markdown",
      "metadata": {
        "id": "afnpEWu_zMSH"
      },
      "source": [
        "Lets see how fast it could go!"
      ]
    },
    {
      "cell_type": "code",
      "metadata": {
        "id": "3zcV8VMyzHkV"
      },
      "source": [
        "import timeit\n",
        "conv_layer = tf.keras.layers.Conv2D(100, 3)\n",
        "\n",
        "@tf.function\n",
        "def conv_fn(image):\n",
        "  return conv_layer(image)\n",
        "\n",
        "image = tf.ones([1, 200, 200, 100])\n",
        "# warm up\n",
        "conv_layer(image); conv_fn(image)\n",
        "\n",
        "no_tf_fn = timeit.timeit(lambda: conv_layer(image), number=10) # tensorflow layer\n",
        "with_tf_fn = timeit.timeit(lambda: conv_fn(image), number=10) # graph\n",
        "difference = no_tf_fn - with_tf_fn\n",
        "\n",
        "print(\"Without tf.function: \", no_tf_fn)\n",
        "print(\"With tf.function: \", with_tf_fn)\n",
        "print(\"The difference: \", difference)\n",
        "\n",
        "print(\"\\nJust imagine when we have to do millions/billions of these calculations\")\n",
        "print(\"Difference times a billion: \", difference*1000000)"
      ],
      "execution_count": null,
      "outputs": []
    }
  ]
}